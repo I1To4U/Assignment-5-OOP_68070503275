{
 "cells": [
  {
   "cell_type": "code",
   "execution_count": 13,
   "id": "085941a9",
   "metadata": {},
   "outputs": [
    {
     "name": "stdout",
     "output_type": "stream",
     "text": [
      "Car rented. Total cost =  33835\n",
      "Model:  Mclaren\n",
      "Rent per day:  6767\n",
      "Available:  False\n",
      "Car returned\n",
      "Model:  Mclaren\n",
      "Rent per day:  6767\n",
      "Available:  True\n"
     ]
    }
   ],
   "source": [
    "class Car:\n",
    "    def __init__(self, model, rent_per_day, available):\n",
    "        self.model = model\n",
    "        self.rent_per_day = rent_per_day\n",
    "        self.available = True #self.avalable = available is also correct\n",
    "    def rent(self, days):\n",
    "        if self.available:\n",
    "            self.available = False\n",
    "            total_cost = self.rent_per_day * days\n",
    "            print(\"Car rented. Total cost = \", total_cost)\n",
    "        else :\n",
    "            print(\"Car not available\")\n",
    "\n",
    "    def return_car(self):\n",
    "        self.available = True\n",
    "        print(\"Car returned\")\n",
    "\n",
    "    def display(self):\n",
    "        print(\"Model: \", self.model)\n",
    "        print(\"Rent per day: \", self.rent_per_day)\n",
    "        print(\"Available: \", self.available)\n",
    "        \n",
    "Car1 = Car(\"Mclaren\", 6767, True)\n",
    "Car1.rent(5)\n",
    "Car1.display()\n",
    "Car1.return_car()\n",
    "Car1.display()\n"
   ]
  },
  {
   "cell_type": "code",
   "execution_count": 15,
   "id": "935dcc0b",
   "metadata": {},
   "outputs": [
    {
     "name": "stdout",
     "output_type": "stream",
     "text": [
      "Name: Nacktie, Age: 18\n",
      "Added Math = 90\n",
      "Added Science = 85\n",
      "Student Marks:\n",
      "Math: 90\n",
      "Science: 85\n",
      "Average Score: 87.5\n"
     ]
    }
   ],
   "source": [
    "# Inheritance\n",
    "\n",
    "class Person:\n",
    "    def __init__(self, name, age):\n",
    "        self.name = name\n",
    "        self.age = age\n",
    "\n",
    "    def display_info(self):\n",
    "        print(f\"Name: {self.name}, Age: {self.age}\")\n",
    "\n",
    "\n",
    "class Student(Person):\n",
    "    def __init__(self, name, age):\n",
    "        super().__init__(name, age)  \n",
    "        self.marks = {}              \n",
    "\n",
    "    def add_mark(self, subject, score):\n",
    "        if subject not in self.marks:\n",
    "            self.marks[subject] = score\n",
    "            print(f\"Added {subject} = {score}\")\n",
    "        else:\n",
    "            old_score = self.marks[subject]\n",
    "            self.marks[subject] = score\n",
    "            print(f\"Updated {subject} = {score}\")\n",
    "\n",
    "    def display_marks(self):\n",
    "        print(\"Student Marks:\")\n",
    "        if not self.marks:\n",
    "            print(\"No marks available.\")\n",
    "        else:\n",
    "            for subject, score in self.marks.items():\n",
    "                print(f\"{subject}: {score}\")\n",
    "    \n",
    "    def average(self):\n",
    "        avg = sum(self.marks.values()) / len(self.marks)\n",
    "        if not self.marks:\n",
    "            return 0\n",
    "        return avg\n",
    "    \n",
    "student1 = Student(\"Nacktie\", 18)          \n",
    "student1.display_info()                 \n",
    "student1.add_mark(\"Math\", 90)           \n",
    "student1.add_mark(\"Science\", 85)\n",
    "student1.display_marks()             \n",
    "avg = student1.average()\n",
    "print(f\"Average Score: {avg}\")"
   ]
  }
 ],
 "metadata": {
  "kernelspec": {
   "display_name": "Python 3",
   "language": "python",
   "name": "python3"
  },
  "language_info": {
   "codemirror_mode": {
    "name": "ipython",
    "version": 3
   },
   "file_extension": ".py",
   "mimetype": "text/x-python",
   "name": "python",
   "nbconvert_exporter": "python",
   "pygments_lexer": "ipython3",
   "version": "3.13.5"
  }
 },
 "nbformat": 4,
 "nbformat_minor": 5
}
